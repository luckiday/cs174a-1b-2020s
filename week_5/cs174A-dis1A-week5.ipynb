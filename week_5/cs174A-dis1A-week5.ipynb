{
 "cells": [
  {
   "cell_type": "markdown",
   "metadata": {
    "slideshow": {
     "slide_type": "slide"
    }
   },
   "source": [
    "# CS-174A Discussion 1B, Week 4\n",
    "\n",
    "@ Yunqi Guo\n",
    "\n",
    "@ Instructor: Dr. Asish Law\n",
    "\n",
    "@ https://github.com/luckiday/cs174a-1b-2020s"
   ]
  },
  {
   "cell_type": "markdown",
   "metadata": {
    "slideshow": {
     "slide_type": "slide"
    }
   },
   "source": [
    "# Outline\n",
    "\n",
    "- Assignment 3\n",
    "- Group project - Design and Tools"
   ]
  },
  {
   "cell_type": "markdown",
   "metadata": {
    "slideshow": {
     "slide_type": "slide"
    }
   },
   "source": [
    "# Assignment 3\n",
    "\n",
    "- Combined Transformations\n",
    "- Lighting and Shading\n",
    "- Surface of Revolution"
   ]
  },
  {
   "cell_type": "markdown",
   "metadata": {
    "slideshow": {
     "slide_type": "slide"
    }
   },
   "source": [
    "# What is Like to be an *Impressive* Project\n",
    "\n",
    "- Novel in techniques\n",
    "- Attractive scenes\n",
    "- New interaction in games\n",
    "- etc. "
   ]
  },
  {
   "cell_type": "markdown",
   "metadata": {
    "slideshow": {
     "slide_type": "subslide"
    }
   },
   "source": [
    "## Novel in Techniques\n",
    "\n",
    "- [WebGL Water](http://madebyevan.com/webgl-water/)\n"
   ]
  },
  {
   "cell_type": "markdown",
   "metadata": {
    "slideshow": {
     "slide_type": "subslide"
    }
   },
   "source": [
    "## Novel in Techniques\n",
    "\n",
    "- Simulate the abstract substance\n",
    "- e.g. water, fog, clouds, smoke.\n",
    "- Simplify the complex movements and interactions/ collisions\n",
    "\n",
    "### **Trick:** Partical system\n",
    "- https://www.youtube.com/watch?v=tfghiimtgyY&list=PLAwxTw4SYaPlaHwnoGxJE7NFhEWRCIyet&index=391"
   ]
  },
  {
   "cell_type": "markdown",
   "metadata": {
    "slideshow": {
     "slide_type": "subslide"
    }
   },
   "source": [
    "## Attractive Scenes\n",
    "\n",
    "- [Make me pulse wish 2017](http://2017.makemepulse.com)"
   ]
  },
  {
   "cell_type": "markdown",
   "metadata": {
    "slideshow": {
     "slide_type": "subslide"
    }
   },
   "source": [
    "## Attractive Scenes\n",
    "\n",
    "- Composition\n",
    "- Color"
   ]
  },
  {
   "cell_type": "markdown",
   "metadata": {
    "slideshow": {
     "slide_type": "subslide"
    }
   },
   "source": [
    "## Attractive Scenes - Composition\n",
    "\n",
    "- Rule of Third\n",
    "- Symmetry / Patterns\n",
    "- Simplify"
   ]
  },
  {
   "cell_type": "markdown",
   "metadata": {
    "slideshow": {
     "slide_type": "subslide"
    }
   },
   "source": [
    "## Attractive Scenes - Composition\n",
    "\n",
    "- Rule of Third\n",
    "  <img src=\"./figures/rule1.png\" alt=\"drawing\" width=\"500\"/>\n",
    "- Symmetry / Patterns\n",
    "- Simplify"
   ]
  },
  {
   "cell_type": "markdown",
   "metadata": {
    "slideshow": {
     "slide_type": "subslide"
    }
   },
   "source": [
    "## Attractive Scenes - Composition\n",
    "\n",
    "- Rule of Third\n",
    "- Symmetry / Patterns\n",
    "  <img src=\"./figures/rule2.png\" alt=\"drawing\" width=\"500\"/>\n",
    "- Simplify"
   ]
  },
  {
   "cell_type": "markdown",
   "metadata": {
    "slideshow": {
     "slide_type": "subslide"
    }
   },
   "source": [
    "## Attractive Scenes - Composition\n",
    "\n",
    "- Rule of Third\n",
    "- Symmetry / Patterns\n",
    "- Simplify\n",
    "  <img src=\"./figures/rule3.png\" alt=\"drawing\" width=\"500\"/>\n"
   ]
  },
  {
   "cell_type": "markdown",
   "metadata": {
    "slideshow": {
     "slide_type": "subslide"
    }
   },
   "source": [
    "## Attractive Scenes - Color\n",
    "<img src=\"./figures/color.png\" alt=\"drawing\" width=\"800\"/>"
   ]
  },
  {
   "cell_type": "markdown",
   "metadata": {
    "slideshow": {
     "slide_type": "subslide"
    }
   },
   "source": [
    "## Attractive Scenes - Color\n",
    "\n",
    "### Rules for color selection\n",
    "- Analogous\n",
    "- Monochromatic\n",
    "- Complementary\n",
    "- etc."
   ]
  },
  {
   "cell_type": "markdown",
   "metadata": {
    "slideshow": {
     "slide_type": "fragment"
    }
   },
   "source": [
    "### Tools for project\n",
    "\n",
    "- https://color.adobe.com/create \n",
    "- https://www.blender.org/\n",
    "- https://github.com/encyclopedia-of-code/tiny-graphics-js"
   ]
  },
  {
   "cell_type": "markdown",
   "metadata": {},
   "source": [
    "# Demo\n",
    "\n",
    "- https://drive.google.com/file/d/16pryJX9lLGZS3DRSuWajp0ENCl4jpqzr/view\n",
    "- https://drive.google.com/file/d/110L4RIzlTUHA-wB2KseWF-8fiAMbifUp/view"
   ]
  }
 ],
 "metadata": {
  "celltoolbar": "Slideshow",
  "kernelspec": {
   "display_name": "Python 3",
   "language": "python",
   "name": "python3"
  },
  "language_info": {
   "codemirror_mode": {
    "name": "ipython",
    "version": 3
   },
   "file_extension": ".py",
   "mimetype": "text/x-python",
   "name": "python",
   "nbconvert_exporter": "python",
   "pygments_lexer": "ipython3",
   "version": "3.7.7"
  }
 },
 "nbformat": 4,
 "nbformat_minor": 2
}
