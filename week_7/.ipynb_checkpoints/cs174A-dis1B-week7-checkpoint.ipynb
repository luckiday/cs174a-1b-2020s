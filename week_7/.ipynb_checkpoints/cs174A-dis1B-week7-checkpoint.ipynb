{
 "cells": [
  {
   "cell_type": "markdown",
   "metadata": {
    "slideshow": {
     "slide_type": "slide"
    }
   },
   "source": [
    "# CS-174A Discussion 1A, Week 7\n",
    "\n",
    "- CS174A, discussion 1A, Winter 2020.\n",
    "- Instructor: [Demetri Terzopoulos](http://web.cs.ucla.edu/~dt/)\n",
    "- TA: Yunqi Guo\n",
    "- https://github.com/luckiday/cs174a-1a-2020w"
   ]
  },
  {
   "cell_type": "markdown",
   "metadata": {
    "slideshow": {
     "slide_type": "slide"
    }
   },
   "source": [
    "# Outline\n",
    "\n",
    "- Midterm Solutions\n",
    "- Group Project\n",
    "  - Tiny graphics examples\n",
    "  - Timing\n",
    "  - Advanced features"
   ]
  },
  {
   "cell_type": "markdown",
   "metadata": {
    "slideshow": {
     "slide_type": "slide"
    }
   },
   "source": [
    "# Tiny-graphics Examples\n",
    "\n",
    "- Lots of free code here: https://github.com/encyclopedia-of-code/tiny-graphics-js \\\n",
    "- Demos include:\n",
    "  - Inertia\n",
    "  - Surfaces\n",
    "  - Collision\n",
    "  - Lighting\n",
    "  - Text"
   ]
  },
  {
   "cell_type": "markdown",
   "metadata": {
    "slideshow": {
     "slide_type": "subslide"
    }
   },
   "source": [
    "## Shapes\n",
    "\n",
    "- ``Grid_Patch``\n",
    "- ``Surface_Of_Revolution``\n",
    "- ``copy_onto_graphics_card()`` method\n",
    "- See demo *Surface_Of_Revolution*"
   ]
  },
  {
   "cell_type": "markdown",
   "metadata": {
    "slideshow": {
     "slide_type": "subslide"
    }
   },
   "source": [
    "## Movement\n",
    "\n",
    "For each moving object, we need to store:\n",
    "- Model Matrix\n",
    "- Give the model transform matrix a \"velocity\" and track it over time\n",
    "  - Need to split it up into angular and linear components so you can scale angular speed\n",
    "- *Inertia Demo*"
   ]
  },
  {
   "cell_type": "markdown",
   "metadata": {
    "slideshow": {
     "slide_type": "subslide"
    }
   },
   "source": [
    "## Collision Detection\n",
    "\n",
    "- Testing for intersections to detect when your shapes are touching one another\n",
    "- Collision Demo"
   ]
  },
  {
   "cell_type": "markdown",
   "metadata": {
    "slideshow": {
     "slide_type": "slide"
    }
   },
   "source": [
    "# Scene Timing Ideas\n",
    "\n",
    "Advice on organizing time during scenes that have several distinct events happen sequentially"
   ]
  },
  {
   "cell_type": "markdown",
   "metadata": {
    "slideshow": {
     "slide_type": "subslide"
    }
   },
   "source": [
    "## Freeze your scene\n",
    "\n",
    "- You can set ``program_state.animate = 0`` anytime.  This freezes animation_time.\n",
    "- You can do this inside your code at a certain time, as a debugging / diagnosis trick.\n",
    "- If you’re paused in the debugger inside your scene, you can just enter that line into the console to freeze your Scene.\n",
    "- Easiest option:  You could make a button in your Scene that does it."
   ]
  },
  {
   "cell_type": "markdown",
   "metadata": {
    "slideshow": {
     "slide_type": "subslide"
    }
   },
   "source": [
    "## Scene timing ideas\n",
    "\n",
    "- Use ``if`` statements for switching scenes\n",
    "- Keep multiple copies of the ``animation_time`` variable with different offsets subtracted from it. \n",
    "- Name the copies like \"*time since (scene #17) started*\"\n",
    "  - If it’s *negative*, the scene shouldn’t start yet, so skip those lines for this frame.\n",
    "  - If it's *positive*, you know to proceed with the lines of code that animate that scene\n",
    "  - If it’s *too positive*, it’s past the scene’s end time, so manually overwrite it to some negative number, making the scene go away again.  "
   ]
  },
  {
   "cell_type": "markdown",
   "metadata": {
    "slideshow": {
     "slide_type": "subslide"
    }
   },
   "source": [
    "## Example\n",
    "\n",
    "```js\n",
    "// Start the scene 5 seconds in.\n",
    "// This scene will last 7 seconds...\n",
    "// ...after which, it will go away again.\n",
    "let time_sinceFallingSceneStart = graphics_state.animation_time - 5000;\t \n",
    "if (time_sinceFallingSceneStart > 7000)         \n",
    "    time_sinceFallingSceneStart = -1;\t\n",
    "    \n",
    "if( time_sinceFallingSceneStart > 0 )\t\n",
    "... // Go on with displaying the falling scene\n",
    "```"
   ]
  },
  {
   "cell_type": "markdown",
   "metadata": {
    "slideshow": {
     "slide_type": "subslide"
    }
   },
   "source": [
    "## Scene timing ideas\n",
    "\n",
    "If your program is interactive:\n",
    "\n",
    "- May want less of a time-dependent scene system -- and more of a **finite state machine (FSM)** \n",
    "- Conditionals in your display() function would consult the **state** before proceeding with any drawing code sections.\n",
    "- Certain key inputs will change your state variable to a different enum value, causing those if's to act differently.  \n",
    "  - Multiple offset copies of your time variable will again be needed to track how long each animation has been going on for, so you can change state once it's done.\n",
    "\n",
    "\n"
   ]
  },
  {
   "cell_type": "markdown",
   "metadata": {
    "slideshow": {
     "slide_type": "slide"
    }
   },
   "source": [
    "## Guideline: Advanced features include but are not limited to:\n",
    "\n",
    "- Ray Tracing\n",
    "- Shadowing\n",
    "- Mirroring\n",
    "- Collision Detection\n",
    "- Scene Graphs\n",
    "- Physics-based simulation (extra advanced and cool)\n",
    "\n",
    ".... and so on (there are more here that I did not list)\n",
    "\n",
    "- normal map/ bump mapping."
   ]
  },
  {
   "cell_type": "markdown",
   "metadata": {
    "slideshow": {
     "slide_type": "subslide"
    }
   },
   "source": [
    "## Things that are not advanced features:\n",
    "\n",
    "- Lighting\n",
    "\n",
    "- Matrix Transformations\n",
    "\n",
    "- Textures"
   ]
  }
 ],
 "metadata": {
  "celltoolbar": "Slideshow",
  "kernelspec": {
   "display_name": "Python 3",
   "language": "python",
   "name": "python3"
  },
  "language_info": {
   "codemirror_mode": {
    "name": "ipython",
    "version": 3
   },
   "file_extension": ".py",
   "mimetype": "text/x-python",
   "name": "python",
   "nbconvert_exporter": "python",
   "pygments_lexer": "ipython3",
   "version": "3.7.4"
  }
 },
 "nbformat": 4,
 "nbformat_minor": 2
}
