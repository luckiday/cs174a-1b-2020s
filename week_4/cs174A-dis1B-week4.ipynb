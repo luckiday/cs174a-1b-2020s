{
 "cells": [
  {
   "cell_type": "markdown",
   "metadata": {
    "slideshow": {
     "slide_type": "slide"
    }
   },
   "source": [
    "# CS-174A Discussion 1B, Week 4\n",
    "\n",
    "@ Yunqi Guo\n",
    "\n",
    "@ Instructor: Dr. Asish Law\n",
    "\n",
    "@ https://github.com/luckiday/cs174a-1b-2020s"
   ]
  },
  {
   "cell_type": "markdown",
   "metadata": {
    "slideshow": {
     "slide_type": "slide"
    }
   },
   "source": [
    "# Last Time\n",
    "\n",
    "- Transformations\n",
    "\n",
    "- Transformations are NOT commutative\n",
    "\n",
    "- Iteration of transformations and animation"
   ]
  },
  {
   "cell_type": "markdown",
   "metadata": {
    "slideshow": {
     "slide_type": "slide"
    }
   },
   "source": [
    "# Next up\n",
    "\n",
    "- Change of Basis\n",
    "- Model-view Transformation\n",
    "- Midterm Review"
   ]
  },
  {
   "cell_type": "markdown",
   "metadata": {
    "slideshow": {
     "slide_type": "slide"
    }
   },
   "source": [
    "\n",
    "## Change of Basis and Model-view transformation\n",
    "\n",
    "<img src=\"figures/view_coord.png\" alt=\"drawing\" style=\"width:400px;\"/>"
   ]
  },
  {
   "cell_type": "markdown",
   "metadata": {
    "slideshow": {
     "slide_type": "slide"
    }
   },
   "source": [
    "#### Quiz\n",
    "\n",
    "Using the following WCS information about the camera location and orientation, derive the 4x4 homogeneous matrix, $ M_{cam}$, needed to transform points from WCS to VCS. \n",
    "\n",
    "- Camera location is located at: $(0, 0, 5)$\n",
    "- $P_{ref}$ is the origin: $(0,0,0)$\n",
    "- Up vector is the y-axis: $(0,1,0)$\n",
    "\n"
   ]
  },
  {
   "cell_type": "markdown",
   "metadata": {
    "slideshow": {
     "slide_type": "slide"
    }
   },
   "source": [
    "# Midterm Review\n"
   ]
  },
  {
   "cell_type": "markdown",
   "metadata": {
    "slideshow": {
     "slide_type": "subslide"
    }
   },
   "source": [
    "Q: What is the diff between affine combinations and convex combination of points?\n"
   ]
  },
  {
   "cell_type": "markdown",
   "metadata": {
    "slideshow": {
     "slide_type": "subslide"
    }
   },
   "source": [
    "## Points and Vectors\n",
    "\n",
    "Q: Parametric equations of line and triangle (barycentric coordinamtes)"
   ]
  },
  {
   "cell_type": "markdown",
   "metadata": {
    "slideshow": {
     "slide_type": "subslide"
    }
   },
   "source": [
    "A:\n",
    "\n",
    "- *Line*: $P = \\alpha_1 P_1 + \\alpha_2 P_2$, and  $\\alpha_1 + \\alpha_2 = 1$.\n",
    "- *Triangle*: \n",
    "  <img src=\"./figure/triangle.png\" alt=\"drawing\" width=\"300\"/>"
   ]
  },
  {
   "cell_type": "markdown",
   "metadata": {
    "slideshow": {
     "slide_type": "subslide"
    }
   },
   "source": [
    "## Points and Vectors\n",
    "\n",
    "Q: Parametric equations of line and triangle (barycentric coordinamtes)"
   ]
  },
  {
   "cell_type": "markdown",
   "metadata": {
    "slideshow": {
     "slide_type": "subslide"
    }
   },
   "source": [
    "A: *Barycentric coordinates*\n",
    "\n",
    "Triangle is convex so any point inside can be represented as an affine sum\n",
    "\n",
    "$$\n",
    "P(a1, a2, a3)=a1P+a2Q+a3R\n",
    "$$\n",
    "where \n",
    "$$\n",
    "a1 +a2 +a3 = 1,\n",
    "a_i\\geq0\n",
    "$$\n",
    "The representation is called the barycentric coordinate representation of P."
   ]
  },
  {
   "cell_type": "markdown",
   "metadata": {
    "slideshow": {
     "slide_type": "subslide"
    }
   },
   "source": [
    "## Viewing\n",
    "<img src=\"./figure/look.png\" alt=\"drawing\" width=\"400\"/>"
   ]
  },
  {
   "cell_type": "markdown",
   "metadata": {
    "slideshow": {
     "slide_type": "subslide"
    }
   },
   "source": [
    "### Projection\n",
    "\n",
    "- Orthographic projection matrix:\n",
    "$$\n",
    "N=\\text{ST}=\\left(\n",
    "\\begin{array}{cccc}\n",
    " \\frac{2}{r-l} & 0 & 0 & -\\frac{l+r}{r-l} \\\\\n",
    " 0 & \\frac{2}{t-b} & 0 & -\\frac{b+t}{t-b} \\\\\n",
    " 0 & 0 & -\\frac{2}{f-n} & -\\frac{f+n}{f-n} \\\\\n",
    " 0 & 0 & 0 & 1 \\\\\n",
    "\\end{array}\n",
    "\\right)\n",
    "$$\n"
   ]
  },
  {
   "cell_type": "markdown",
   "metadata": {
    "slideshow": {
     "slide_type": "subslide"
    }
   },
   "source": [
    "- Perspective projection matrix:\n",
    "    \n",
    "$$\n",
    "P=NSH=\\left(\n",
    "\\begin{array}{cccc}\n",
    " \\frac{n}{r} & 0 & 0 & 0 \\\\\n",
    " 0 & \\frac{n}{t} & 0 & 0 \\\\\n",
    " 0 & 0 & -\\frac{f+n}{f-n} & -\\frac{2 f n}{f-n} \\\\\n",
    " 0 & 0 & -1 & 0 \\\\\n",
    "\\end{array}\n",
    "\\right)\n",
    "$$"
   ]
  },
  {
   "cell_type": "markdown",
   "metadata": {
    "slideshow": {
     "slide_type": "subslide"
    }
   },
   "source": [
    "- Derivation\n",
    "$$\n",
    "N=\\left(\n",
    "\\begin{array}{cccc}\n",
    " 1 & 0 & 0 & 0 \\\\\n",
    " 0 & 1 & 0 & 0 \\\\\n",
    " 0 & 0 & a & b \\\\\n",
    " 0 & 0 & -1 & 0 \\\\\n",
    "\\end{array}\n",
    "\\right)\n",
    "$$\n",
    "  After perspective division, the point $(x, y, z, 1)$ goes to\n",
    "$$\n",
    "x’’ = -x/z,~~\n",
    "y’’ = -y/z,~~\n",
    "z’’ = -(a+b/z)\n",
    "$$\n",
    "\n",
    "  When $z = f, z'' = -1$; when $z = n, z'' = 1$."
   ]
  }
 ],
 "metadata": {
  "celltoolbar": "Slideshow",
  "kernelspec": {
   "display_name": "Python 3",
   "language": "python",
   "name": "python3"
  },
  "language_info": {
   "codemirror_mode": {
    "name": "ipython",
    "version": 3
   },
   "file_extension": ".py",
   "mimetype": "text/x-python",
   "name": "python",
   "nbconvert_exporter": "python",
   "pygments_lexer": "ipython3",
   "version": "3.7.7"
  }
 },
 "nbformat": 4,
 "nbformat_minor": 2
}
