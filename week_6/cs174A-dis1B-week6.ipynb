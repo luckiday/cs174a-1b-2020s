{
 "cells": [
  {
   "cell_type": "markdown",
   "metadata": {
    "slideshow": {
     "slide_type": "slide"
    }
   },
   "source": [
    "# CS-174A Discussion 1B, Week 5\n",
    "\n",
    "@ Yunqi Guo\n",
    "\n",
    "@ Instructor: Dr. Asish Law\n",
    "\n",
    "@ https://github.com/luckiday/cs174a-1b-2020s"
   ]
  },
  {
   "cell_type": "markdown",
   "metadata": {
    "slideshow": {
     "slide_type": "slide"
    }
   },
   "source": [
    "# Outline\n",
    "\n",
    "- Assignment 3\n",
    "- Midterm"
   ]
  },
  {
   "cell_type": "markdown",
   "metadata": {
    "slideshow": {
     "slide_type": "slide"
    }
   },
   "source": [
    "# Assignment 3\n",
    "\n",
    "- Combined Transformations\n",
    "- Lighting and Shading\n",
    "- Surface of Revolution"
   ]
  },
  {
   "cell_type": "markdown",
   "metadata": {
    "slideshow": {
     "slide_type": "subslide"
    }
   },
   "source": [
    "# Lighting\n",
    "\n",
    "- Ambient & Diffuse & Specular\n",
    "\n",
    "![](./figures/basic_lighting_phong.png)"
   ]
  },
  {
   "cell_type": "markdown",
   "metadata": {
    "slideshow": {
     "slide_type": "subslide"
    }
   },
   "source": [
    "# Lighting\n",
    "\n",
    "- *Ambient lighting*: even when it is dark there is usually still some light somewhere in the world (the moon, a distant light) so objects are almost never completely dark. To simulate this we use an ambient lighting constant that always gives the object some color.\n",
    "- *Diffuse lighting*: simulates the directional impact a light object has on an object. This is the most visually significant component of the lighting model. The more a part of an object faces the light source, the brighter it becomes.\n",
    "- *Specular lighting*: simulates the bright spot of a light that appears on shiny objects. Specular highlights are often more inclined to the color of the light than the color of the object."
   ]
  },
  {
   "cell_type": "markdown",
   "metadata": {
    "slideshow": {
     "slide_type": "subslide"
    }
   },
   "source": [
    "# Shading\n",
    "\n",
    "- Flat shading\n",
    "- Smooth shading\n",
    "  - Gouraud shading\n",
    "  - Phong shading\n",
    "  \n",
    "  ![](./figures/shading.png)"
   ]
  },
  {
   "cell_type": "markdown",
   "metadata": {
    "slideshow": {
     "slide_type": "subslide"
    }
   },
   "source": [
    "#  Flat vs Smooth Shading\n",
    "\n",
    "**Flat shadding**\n",
    "- A normal per whole triangle\n",
    "- Distribute it to all three vertices identically\n",
    "- Result is flat lighting across the triangle\n",
    "\n",
    "But ...\n",
    "\n",
    "- When vertices are shared, we logistically cannot do that\n",
    "- A vertex can’t have two normals at once\n",
    "- Other triangles will fight over assigning normals to a vertex\n",
    " "
   ]
  },
  {
   "cell_type": "markdown",
   "metadata": {
    "slideshow": {
     "slide_type": "subslide"
    }
   },
   "source": [
    "#  Flat vs Smooth shading\n",
    "\n",
    "As opposed to “Smooth shading”\n",
    "\n",
    "- Deriving normals from some source besides the triangle, like the analytic formula of the shape (like Sphere)\n",
    "- Lighting formulas can react to the normal being different across a surface"
   ]
  }
 ],
 "metadata": {
  "celltoolbar": "Slideshow",
  "kernelspec": {
   "display_name": "Python 3",
   "language": "python",
   "name": "python3"
  },
  "language_info": {
   "codemirror_mode": {
    "name": "ipython",
    "version": 3
   },
   "file_extension": ".py",
   "mimetype": "text/x-python",
   "name": "python",
   "nbconvert_exporter": "python",
   "pygments_lexer": "ipython3",
   "version": "3.7.7"
  }
 },
 "nbformat": 4,
 "nbformat_minor": 2
}
