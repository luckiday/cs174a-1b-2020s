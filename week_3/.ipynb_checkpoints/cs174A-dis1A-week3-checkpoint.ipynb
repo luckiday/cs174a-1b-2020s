{
 "cells": [
  {
   "cell_type": "markdown",
   "metadata": {
    "slideshow": {
     "slide_type": "slide"
    }
   },
   "source": [
    "# CS-174A Discussion 1A, Week 3\n",
    "\n",
    "@ Yunqi Guo\n",
    "\n",
    "@ BOELTER 9436 / Friday / 10:00 am - 11:50 am\n",
    "\n",
    "@ https://github.com/luckiday/cs174a-1a-2020w"
   ]
  },
  {
   "cell_type": "markdown",
   "metadata": {
    "slideshow": {
     "slide_type": "slide"
    }
   },
   "source": [
    "# Outline\n",
    "\n",
    "- Transformations:\n",
    "    - Translation\n",
    "    - Scaling\n",
    "    - Rotation\n",
    "    - Shearing\n",
    "\n",
    "- Transformations are NOT commutative\n",
    "\n",
    "- Iteration of transformation and animation"
   ]
  },
  {
   "cell_type": "markdown",
   "metadata": {
    "slideshow": {
     "slide_type": "slide"
    }
   },
   "source": [
    "# Basic Transformations\n",
    "\n",
    "- Translation\n",
    "- Scaling\n",
    "- Rotation\n",
    "- Shearing"
   ]
  },
  {
   "cell_type": "markdown",
   "metadata": {
    "slideshow": {
     "slide_type": "subslide"
    }
   },
   "source": [
    "## Translation\n",
    "$$\n",
    "\\begin{pmatrix}\n",
    " x' \\\\\n",
    " y' \\\\\n",
    " z' \\\\\n",
    " 1 \\\\\n",
    "\\end{pmatrix}\n",
    "=\n",
    "\\begin{pmatrix}\n",
    " 1 & 0 & 0 & t_x \\\\\n",
    " 0 & 1 & 0 & t_y \\\\\n",
    " 0 & 0 & 1 & t_z \\\\\n",
    " 0 & 0 & 0 & 1 \\\\\n",
    "\\end{pmatrix}\n",
    "\\begin{pmatrix}\n",
    " x \\\\\n",
    " y \\\\\n",
    " z \\\\\n",
    " 1 \\\\\n",
    "\\end{pmatrix}\n",
    "$$"
   ]
  },
  {
   "cell_type": "markdown",
   "metadata": {
    "slideshow": {
     "slide_type": "subslide"
    }
   },
   "source": [
    "## Scaling\n",
    "$$\n",
    "\\begin{pmatrix}\n",
    " x' \\\\\n",
    " y' \\\\\n",
    " z' \\\\\n",
    " 1 \\\\\n",
    "\\end{pmatrix}\n",
    "=\n",
    "\\begin{pmatrix}\n",
    " s_x & 0 & 0 & 0 \\\\\n",
    " 0 & s_y & 0 & 0 \\\\\n",
    " 0 & 0 & s_z & 0 \\\\\n",
    " 0 & 0 & 0 & 1 \\\\\n",
    "\\end{pmatrix}\n",
    "\\begin{pmatrix}\n",
    " x \\\\\n",
    " y \\\\\n",
    " z \\\\\n",
    " 1 \\\\\n",
    "\\end{pmatrix}\n",
    "$$"
   ]
  },
  {
   "cell_type": "markdown",
   "metadata": {
    "slideshow": {
     "slide_type": "subslide"
    }
   },
   "source": [
    "## Rotation\n",
    "**Rotate about $z-$axis**:\n",
    "$$\n",
    "\\begin{pmatrix}\n",
    " x' \\\\\n",
    " y' \\\\\n",
    " z' \\\\\n",
    " 1 \\\\\n",
    "\\end{pmatrix}\n",
    "=\n",
    "\\begin{pmatrix}\n",
    " \\cos (\\theta ) & -\\sin (\\theta ) & 0 & 0 \\\\\n",
    " \\sin (\\theta ) & \\cos (\\theta ) & 0 & 0 \\\\\n",
    " 0 & 0 & 1 & 0 \\\\\n",
    " 0 & 0 & 0 & 1 \\\\\n",
    "\\end{pmatrix}\n",
    "\\begin{pmatrix}\n",
    " x \\\\\n",
    " y \\\\\n",
    " z \\\\\n",
    " 1 \\\\\n",
    "\\end{pmatrix}\n",
    "$$"
   ]
  },
  {
   "cell_type": "markdown",
   "metadata": {
    "slideshow": {
     "slide_type": "subslide"
    }
   },
   "source": [
    "E.g. when $\\theta=\\pi/4$, \n",
    "$$\n",
    "R = \n",
    "\\begin{pmatrix}\n",
    " \\frac{1}{\\sqrt{2}} & -\\frac{1}{\\sqrt{2}} & 0 & 0 \\\\\n",
    " \\frac{1}{\\sqrt{2}} & \\frac{1}{\\sqrt{2}} & 0 & 0 \\\\\n",
    " 0 & 0 & 1 & 0 \\\\\n",
    " 0 & 0 & 0 & 1 \\\\\n",
    "\\end{pmatrix}\n",
    "$$"
   ]
  },
  {
   "cell_type": "markdown",
   "metadata": {
    "slideshow": {
     "slide_type": "subslide"
    }
   },
   "source": [
    "## Shear\n",
    "\n",
    "$$x' = x + \\mathrm{Sh}_{x}^{y} y + \\mathrm{Sh}_{x}^{z} z$$\n",
    "\n",
    "$$y' = \\mathrm{Sh}_{y}^{x}x + y +\\mathrm{Sh}_{y}^{z}z$$\n",
    "\n",
    "$$z' = \\mathrm{Sh}_{z}^{x}x + \\mathrm{Sh}_{z}^{y}y + z$$\n",
    "\n",
    "$$\n",
    "\\begin{pmatrix}\n",
    " x' \\\\\n",
    " y' \\\\\n",
    " z' \\\\\n",
    " 1 \\\\\n",
    "\\end{pmatrix}\n",
    "=\n",
    "\\begin{pmatrix}\n",
    " 1 & \\mathrm{Sh}_{x}^{y} & \\mathrm{Sh}_{x}^{z} & 0 \\\\\n",
    " \\mathrm{Sh}_{y}^{x} & 1 & \\mathrm{Sh}_{y}^{z} & 0 \\\\\n",
    " \\mathrm{Sh}_{z}^{x} & \\mathrm{Sh}_{z}^{y} & 1 & 0 \\\\\n",
    " 0 & 0 & 0 & 1 \\\\\n",
    "\\end{pmatrix}\n",
    "\\begin{pmatrix}\n",
    " x \\\\\n",
    " y \\\\\n",
    " z \\\\\n",
    " 1 \\\\\n",
    "\\end{pmatrix}\n",
    "$$"
   ]
  },
  {
   "cell_type": "markdown",
   "metadata": {
    "slideshow": {
     "slide_type": "subslide"
    }
   },
   "source": [
    "## Transformations with tiny-graphic.js \n",
    "\n",
    "- Demo"
   ]
  },
  {
   "cell_type": "markdown",
   "metadata": {
    "slideshow": {
     "slide_type": "slide"
    }
   },
   "source": [
    "# Transformations are NOT commutative.\n",
    "\n",
    "- Matrix multiplication is not commutative.\n",
    "  - When performing multiple rotation transformations.\n",
    "  - The order of transformation types matters.\n",
    "  - i.e. $q=TRSTp$ is not the same as $q=TSRTp$"
   ]
  },
  {
   "cell_type": "markdown",
   "metadata": {
    "slideshow": {
     "slide_type": "subslide"
    }
   },
   "source": [
    "## Example\n",
    "<img src=\"figures/pumpkin.png\" alt=\"drawing\" width=\"600\"/>"
   ]
  },
  {
   "cell_type": "markdown",
   "metadata": {
    "slideshow": {
     "slide_type": "subslide"
    }
   },
   "source": [
    "- Demo"
   ]
  },
  {
   "cell_type": "markdown",
   "metadata": {
    "slideshow": {
     "slide_type": "slide"
    }
   },
   "source": [
    "# Iteration of transformation and animation\n",
    "- Demo"
   ]
  }
 ],
 "metadata": {
  "celltoolbar": "Slideshow",
  "kernelspec": {
   "display_name": "Python 3",
   "language": "python",
   "name": "python3"
  },
  "language_info": {
   "codemirror_mode": {
    "name": "ipython",
    "version": 3
   },
   "file_extension": ".py",
   "mimetype": "text/x-python",
   "name": "python",
   "nbconvert_exporter": "python",
   "pygments_lexer": "ipython3",
   "version": "3.7.4"
  }
 },
 "nbformat": 4,
 "nbformat_minor": 2
}
